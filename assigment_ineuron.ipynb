{
 "cells": [
  {
   "cell_type": "code",
   "execution_count": 15,
   "metadata": {},
   "outputs": [],
   "source": [
    "#1\n",
    "x = \"placement\"\n",
    "y = \"screening\"\n",
    "\n",
    "with open(r'example.txt', 'w') as file:\n",
    "    file.write('This is a placement assignment')\n",
    "with open(r'example.txt', 'r') as file:\n",
    "    data = file.read()\n",
    "    data = data.replace(x, y)\n",
    "with open(r'example.txt', 'w') as file:\n",
    "    file.write(data)"
   ]
  },
  {
   "cell_type": "code",
   "execution_count": 21,
   "metadata": {},
   "outputs": [
    {
     "name": "stdout",
     "output_type": "stream",
     "text": [
      "Example of abstract Class\n"
     ]
    },
    {
     "data": {
      "text/plain": [
       "'FSDS'"
      ]
     },
     "execution_count": 21,
     "metadata": {},
     "output_type": "execute_result"
    }
   ],
   "source": [
    "#2\n",
    "class xyz:\n",
    "    #abstract Class example\n",
    "    def print(self):\n",
    "        pass\n",
    "class xyz2(xyz):\n",
    "    def print(self):\n",
    "        print(\"Example of abstract Class\")\n",
    "class dec:\n",
    "    #decorator example \n",
    "    batchnb=\"FSDS\"\n",
    "    @staticmethod #can be call without object of the class directly using class name\n",
    "    def batch():\n",
    "        print(self.batchnb)\n",
    "obj = xyz2()\n",
    "obj.print()\n",
    "dec.batchnb"
   ]
  },
  {
   "cell_type": "code",
   "execution_count": 25,
   "metadata": {},
   "outputs": [
    {
     "name": "stdout",
     "output_type": "stream",
     "text": [
      "IN xyz \n",
      " IN xyz2 \n",
      " IN xyz3\n"
     ]
    }
   ],
   "source": [
    "#multiple inhertiance example\n",
    "class xyz:\n",
    "    def my_fun(self):\n",
    "        return \"IN xyz\"\n",
    "class xyz2:\n",
    "    def my_fun2(self):\n",
    "        return \"IN xyz2\"\n",
    "class xyz3(xyz2,xyz):\n",
    "    def my_fun3(self):\n",
    "        return \"IN xyz3\"\n",
    "obj = xyz3()\n",
    "print(obj.my_fun(),'\\n',obj.my_fun2(),'\\n',obj.my_fun3())"
   ]
  },
  {
   "cell_type": "code",
   "execution_count": null,
   "metadata": {},
   "outputs": [],
   "source": []
  }
 ],
 "metadata": {
  "kernelspec": {
   "display_name": "Python 3",
   "language": "python",
   "name": "python3"
  },
  "language_info": {
   "codemirror_mode": {
    "name": "ipython",
    "version": 3
   },
   "file_extension": ".py",
   "mimetype": "text/x-python",
   "name": "python",
   "nbconvert_exporter": "python",
   "pygments_lexer": "ipython3",
   "version": "3.8.5"
  }
 },
 "nbformat": 4,
 "nbformat_minor": 4
}
