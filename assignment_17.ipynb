{
 "cells": [
  {
   "cell_type": "code",
   "execution_count": 1,
   "metadata": {},
   "outputs": [
    {
     "name": "stdout",
     "output_type": "stream",
     "text": [
      "just_right\n"
     ]
    }
   ],
   "source": [
    "#1\n",
    "guess_me = 7\n",
    "if guess_me<7:\n",
    "    print(\"too_low\")\n",
    "elif guess_me>7:\n",
    "    print(\"too_high\")\n",
    "if guess_me==7:\n",
    "    print(\"just_right\")"
   ]
  },
  {
   "cell_type": "code",
   "execution_count": 5,
   "metadata": {},
   "outputs": [
    {
     "name": "stdout",
     "output_type": "stream",
     "text": [
      "too_low\n",
      "too_low\n",
      "too_low\n",
      "too_low\n",
      "too_low\n",
      "too_low\n",
      "found_it\n"
     ]
    }
   ],
   "source": [
    "#2\n",
    "guess_me = 7\n",
    "start = 1\n",
    "while(start<=guess_me):\n",
    "    if start<guess_me:\n",
    "        print(\"too_low\")\n",
    "    if start == guess_me:\n",
    "        print(\"found_it\")\n",
    "        break\n",
    "    if start > guess_me:\n",
    "        print(\"oops\")\n",
    "        break\n",
    "    start = start+1"
   ]
  },
  {
   "cell_type": "code",
   "execution_count": 7,
   "metadata": {},
   "outputs": [
    {
     "name": "stdout",
     "output_type": "stream",
     "text": [
      "3\n",
      "2\n",
      "1\n",
      "0\n"
     ]
    }
   ],
   "source": [
    "#3\n",
    "l = [3,2,1,0]\n",
    "for i in l:\n",
    "    print(i)"
   ]
  },
  {
   "cell_type": "code",
   "execution_count": 14,
   "metadata": {},
   "outputs": [
    {
     "data": {
      "text/plain": [
       "[0, 2, 4, 6, 8]"
      ]
     },
     "execution_count": 14,
     "metadata": {},
     "output_type": "execute_result"
    }
   ],
   "source": [
    "#4\n",
    "[ i for i in range(10) if i%2 ==0 ]"
   ]
  },
  {
   "cell_type": "code",
   "execution_count": 19,
   "metadata": {},
   "outputs": [
    {
     "name": "stdout",
     "output_type": "stream",
     "text": [
      "{0: 0, 1: 1, 2: 4, 3: 9, 4: 16, 5: 25, 6: 36, 7: 49, 8: 64, 9: 81}\n"
     ]
    }
   ],
   "source": [
    "#5\n",
    "dict = {i:i*i for i in range(10)}\n",
    "print(dict)"
   ]
  },
  {
   "cell_type": "code",
   "execution_count": 18,
   "metadata": {},
   "outputs": [
    {
     "name": "stdout",
     "output_type": "stream",
     "text": [
      "{1, 3, 5, 7, 9}\n"
     ]
    }
   ],
   "source": [
    "#6\n",
    "s = [i for i in range(10) if i%2 != 0]\n",
    "print(set(s))"
   ]
  },
  {
   "cell_type": "code",
   "execution_count": 5,
   "metadata": {},
   "outputs": [
    {
     "name": "stdout",
     "output_type": "stream",
     "text": [
      "0  GOT\n",
      "1  GOT\n",
      "2  GOT\n",
      "3  GOT\n",
      "4  GOT\n",
      "5  GOT\n",
      "6  GOT\n",
      "7  GOT\n",
      "8  GOT\n",
      "9  GOT\n"
     ]
    },
    {
     "data": {
      "text/plain": [
       "[None, None, None, None, None, None, None, None, None, None]"
      ]
     },
     "execution_count": 5,
     "metadata": {},
     "output_type": "execute_result"
    }
   ],
   "source": [
    "#7\n",
    "[print(i,\" GOT\") for i in range(10)]"
   ]
  },
  {
   "cell_type": "code",
   "execution_count": 20,
   "metadata": {},
   "outputs": [
    {
     "name": "stdout",
     "output_type": "stream",
     "text": [
      "Harry\n",
      "Ron\n",
      "Hermione\n"
     ]
    }
   ],
   "source": [
    "#8\n",
    "def good(l):\n",
    "    for i in l:\n",
    "        print(i)\n",
    "l = [\"Harry\",\"Ron\",\"Hermione\"]\n",
    "good(l)"
   ]
  },
  {
   "cell_type": "code",
   "execution_count": 2,
   "metadata": {},
   "outputs": [
    {
     "data": {
      "text/plain": [
       "1"
      ]
     },
     "execution_count": 2,
     "metadata": {},
     "output_type": "execute_result"
    }
   ],
   "source": [
    "#9\n",
    "def get_odd():\n",
    "    for i in range(10):\n",
    "        if i%2 != 0:\n",
    "            yield(i)\n",
    "p=get_odd()\n",
    "next(p)"
   ]
  },
  {
   "cell_type": "code",
   "execution_count": 3,
   "metadata": {},
   "outputs": [
    {
     "data": {
      "text/plain": [
       "3"
      ]
     },
     "execution_count": 3,
     "metadata": {},
     "output_type": "execute_result"
    }
   ],
   "source": [
    "next(p)"
   ]
  },
  {
   "cell_type": "code",
   "execution_count": 8,
   "metadata": {},
   "outputs": [
    {
     "name": "stdout",
     "output_type": "stream",
     "text": [
      "enter a number5\n",
      "oopsException  caught an oops\n"
     ]
    }
   ],
   "source": [
    "#10\n",
    "n = int(input(\"enter a number\"))\n",
    "try:\n",
    "    if n == 5:\n",
    "        raise Exception(\"oopsException\")\n",
    "except Exception as e:\n",
    "    print(e,\" caught an oops\")\n",
    "else:\n",
    "    print(\"things are fine\")"
   ]
  },
  {
   "cell_type": "code",
   "execution_count": 11,
   "metadata": {},
   "outputs": [
    {
     "name": "stdout",
     "output_type": "stream",
     "text": [
      "{('Creature of Habit', 'A nun turns into a monster'), ('Crewel Fate', 'A haunted yarn shop')}\n"
     ]
    }
   ],
   "source": [
    "#11\n",
    "titles = [\"Creature of Habit\",\"Crewel Fate\"] \n",
    "plots = [\"A nun turns into a monster\", \"A haunted yarn shop\"]\n",
    "d = zip(titles,plots)\n",
    "print(set(d))"
   ]
  },
  {
   "cell_type": "code",
   "execution_count": null,
   "metadata": {},
   "outputs": [],
   "source": []
  }
 ],
 "metadata": {
  "kernelspec": {
   "display_name": "Python 3",
   "language": "python",
   "name": "python3"
  },
  "language_info": {
   "codemirror_mode": {
    "name": "ipython",
    "version": 3
   },
   "file_extension": ".py",
   "mimetype": "text/x-python",
   "name": "python",
   "nbconvert_exporter": "python",
   "pygments_lexer": "ipython3",
   "version": "3.8.5"
  }
 },
 "nbformat": 4,
 "nbformat_minor": 4
}
