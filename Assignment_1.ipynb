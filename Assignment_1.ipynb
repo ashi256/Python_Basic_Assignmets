{
 "cells": [
  {
   "cell_type": "raw",
   "metadata": {},
   "source": [
    "ques1\n",
    "\n",
    "*        experssion\n",
    "'hello'  value\n",
    "-87.8    value\n",
    "-        experssion\n",
    "/        experssion\n",
    "+        experssion"
   ]
  },
  {
   "cell_type": "raw",
   "metadata": {},
   "source": [
    "2 - String is a datatype that holds values, written within (double or single) inverted commas or we can say combination of character\n",
    "variables holds the data in main memory"
   ]
  },
  {
   "cell_type": "raw",
   "metadata": {},
   "source": [
    "3 - int  - used for interger values\n",
    "bool - used for boolean values(1/0 or true/false)\n",
    "float- used for decimal values"
   ]
  },
  {
   "cell_type": "raw",
   "metadata": {},
   "source": [
    "4 - expressions are made of operators along with operands and it stores a mathematical equation"
   ]
  },
  {
   "cell_type": "raw",
   "metadata": {},
   "source": [
    "5 - experssion is a mathematical equation and statement is like a variable declaration"
   ]
  },
  {
   "cell_type": "code",
   "execution_count": 1,
   "metadata": {},
   "outputs": [
    {
     "data": {
      "text/plain": [
       "23"
      ]
     },
     "execution_count": 1,
     "metadata": {},
     "output_type": "execute_result"
    }
   ],
   "source": [
    "#6 \n",
    "bacon = 22\n",
    "bacon +1\n",
    "#bacon =23"
   ]
  },
  {
   "cell_type": "raw",
   "metadata": {},
   "source": [
    "7\n",
    "spamspamspam\n",
    "spamspamspam"
   ]
  },
  {
   "cell_type": "raw",
   "metadata": {},
   "source": [
    "8 - cannot have a number as variable name but a word can be a variable name"
   ]
  },
  {
   "cell_type": "raw",
   "metadata": {},
   "source": [
    "9 - int(),float(),str()"
   ]
  },
  {
   "cell_type": "code",
   "execution_count": 3,
   "metadata": {},
   "outputs": [
    {
     "data": {
      "text/plain": [
       "'I have eaten 99 burritos'"
      ]
     },
     "execution_count": 3,
     "metadata": {},
     "output_type": "execute_result"
    }
   ],
   "source": [
    "# 10 'I have eaten' + 99 + 'burritos' - can only concatenate only string, not int \n",
    "'I have eaten' + ' 99 ' + 'burritos'"
   ]
  },
  {
   "cell_type": "code",
   "execution_count": null,
   "metadata": {},
   "outputs": [],
   "source": []
  }
 ],
 "metadata": {
  "kernelspec": {
   "display_name": "Python 3",
   "language": "python",
   "name": "python3"
  },
  "language_info": {
   "codemirror_mode": {
    "name": "ipython",
    "version": 3
   },
   "file_extension": ".py",
   "mimetype": "text/x-python",
   "name": "python",
   "nbconvert_exporter": "python",
   "pygments_lexer": "ipython3",
   "version": "3.8.5"
  }
 },
 "nbformat": 4,
 "nbformat_minor": 4
}
